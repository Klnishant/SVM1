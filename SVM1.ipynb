{
 "cells": [
  {
   "cell_type": "markdown",
   "id": "0c5e322f-6a5e-49d5-a9c9-dcdcf821b5d4",
   "metadata": {},
   "source": [
    "##### Q1. What is the mathematical formula for a linear SVM?"
   ]
  },
  {
   "cell_type": "markdown",
   "id": "644d6538-6e21-4d5f-a74e-2e887fd0c3d8",
   "metadata": {},
   "source": [
    "Ans--> The mathematical formula for a linear Support Vector Machine (SVM) can be defined as follows:\n",
    "\n",
    "Given a training dataset with input features represented by a matrix X and corresponding labels y, where X has dimensions (m, n) and y has dimensions (m, 1), the objective of a linear SVM is to find a hyperplane that separates the data into two classes. The hyperplane can be represented by a weight vector w and a bias term b.\n",
    "\n",
    "The decision function of a linear SVM is defined as:\n",
    "\n",
    "f(x) = sign(w^T * x + b)\n",
    "\n",
    "Here, x represents a feature vector, w is the weight vector, b is the bias term, and sign is the sign function that returns +1 for positive values and -1 for negative values.\n",
    "\n",
    "The objective of a linear SVM is to find the optimal hyperplane that maximizes the margin between the two classes. Mathematically, this can be expressed as:\n",
    "\n",
    "Minimize: 1/2 * ||w||^2\n",
    "\n",
    "Subject to: y_i * (w^T * x_i + b) >= 1 for all training examples (x_i, y_i)\n",
    "\n",
    "In this formulation, ||w||^2 represents the squared Euclidean norm of the weight vector w, and y_i represents the label of the ith training example. The constraint ensures that all training examples are correctly classified and lie on or outside the margin.\n",
    "\n",
    "The optimization problem is typically solved using quadratic programming or other optimization algorithms to find the optimal values of w and b that satisfy the objective and constraints.\n",
    "\n",
    "Once the SVM model is trained, it can be used to make predictions on new, unseen data by evaluating the sign of the decision function f(x) for each sample. If the result is positive, the sample is classified as one class; if the result is negative, it is classified as the other class.\n",
    "\n",
    "It's important to note that the formula provided above is for a linear SVM. SVMs can also be extended to handle non-linear classification problems using kernel functions, which transform the input features into a higher-dimensional space."
   ]
  },
  {
   "cell_type": "markdown",
   "id": "374a5887-54cf-487a-8724-95358c578185",
   "metadata": {},
   "source": [
    "##### Q2. What is the objective function of a linear SVM?"
   ]
  },
  {
   "cell_type": "markdown",
   "id": "4c735083-74d1-453e-978e-ca5bd4640ba7",
   "metadata": {},
   "source": [
    "Ans--> The objective function of a linear Support Vector Machine (SVM) is to find the optimal hyperplane that maximizes the margin between two classes. This can be formulated as an optimization problem.\n",
    "\n",
    "The objective function of a linear SVM is defined as:\n",
    "\n",
    "Minimize: 1/2 * ||w||^2\n",
    "\n",
    "Subject to: y_i * (w^T * x_i + b) >= 1 for all training examples (x_i, y_i)\n",
    "\n",
    "In this formulation, ||w||^2 represents the squared Euclidean norm of the weight vector w, which quantifies the complexity of the model. Minimizing ||w||^2 encourages the SVM to find a decision boundary with a larger margin, promoting better generalization.\n",
    "\n",
    "The second part of the objective function consists of constraints. For each training example (x_i, y_i), where x_i is the input feature vector and y_i is the corresponding label, the constraint is given by y_i * (w^T * x_i + b) >= 1. These constraints ensure that all training examples are correctly classified and lie on or outside the margin.\n",
    "\n",
    "The objective function aims to minimize the complexity of the model (measured by ||w||^2) while satisfying the constraints to ensure correct classification. This formulation encourages the SVM to find a hyperplane that separates the two classes with the largest margin possible, maximizing the separation between the classes and promoting better generalization to unseen data.\n",
    "\n",
    "Once the objective function is defined, the optimization problem can be solved using techniques such as quadratic programming or other optimization algorithms to find the optimal values of the weight vector w and the bias term b that satisfy the objective and constraints."
   ]
  },
  {
   "cell_type": "markdown",
   "id": "3eb01ba2-b9f5-4f86-9073-cf2a8907fc7b",
   "metadata": {},
   "source": [
    "##### Q3. What is the kernel trick in SVM?"
   ]
  },
  {
   "cell_type": "markdown",
   "id": "97d5edca-3873-4674-b519-87f2f6c3c886",
   "metadata": {},
   "source": [
    "Ans--> The kernel trick is a technique used in Support Vector Machines (SVMs) to handle non-linearly separable data without explicitly mapping the input features to a higher-dimensional space. It allows SVMs to efficiently compute the decision boundary in the original input space by implicitly operating in a higher-dimensional feature space.\n",
    "\n",
    "In the context of SVMs, a kernel is a function that calculates the similarity or inner product between pairs of input feature vectors. By applying the kernel function, the SVM can effectively learn complex, non-linear decision boundaries.\n",
    "\n",
    "The kernel trick works by replacing the dot product of input feature vectors (x_i and x_j) in the SVM formulation with the kernel function, typically denoted as K(x_i, x_j). Instead of explicitly mapping the input features to a higher-dimensional space, the kernel function computes the inner product between the mapped feature vectors without explicitly representing them.\n",
    "\n",
    "The use of the kernel function enables the SVM to implicitly operate in a higher-dimensional space, which can lead to a non-linear decision boundary in the original input space. This is possible because the kernel function captures the relationships between input feature vectors in the higher-dimensional space, allowing the SVM to find a more flexible decision boundary.\n",
    "\n",
    "Commonly used kernel functions include:\n",
    "1. Linear Kernel: K(x_i, x_j) = x_i^T * x_j (equivalent to the dot product of the input feature vectors).\n",
    "2. Polynomial Kernel: K(x_i, x_j) = (gamma * x_i^T * x_j + r)^d, where gamma, r, and d are kernel parameters.\n",
    "3. Gaussian (RBF) Kernel: K(x_i, x_j) = exp(-gamma * ||x_i - x_j||^2), where gamma is a kernel parameter.\n",
    "4. Sigmoid Kernel: K(x_i, x_j) = tanh(gamma * x_i^T * x_j + r), where gamma and r are kernel parameters.\n",
    "\n",
    "The kernel trick allows SVMs to efficiently handle non-linearly separable data by implicitly operating in a higher-dimensional feature space without explicitly mapping the input features. This makes SVMs powerful and flexible for a wide range of classification tasks."
   ]
  },
  {
   "cell_type": "markdown",
   "id": "227ae589-67f0-4861-aeaf-5aa42ae573cc",
   "metadata": {},
   "source": [
    "##### Q4. What is the role of support vectors in SVM Explain with example"
   ]
  },
  {
   "cell_type": "markdown",
   "id": "76cae65e-05ea-4993-81fc-1fb5df0bb1a6",
   "metadata": {},
   "source": [
    "Ans--> Support vectors play a crucial role in Support Vector Machines (SVMs). They are the data points from the training dataset that lie closest to the decision boundary or margin. These support vectors are used to define the decision boundary and determine the classification of new, unseen data points.\n",
    "\n",
    "In SVM, the objective is to find a hyperplane that maximizes the margin between two classes. The margin is defined as the perpendicular distance between the decision boundary and the nearest data points from each class. The support vectors are the data points that lie on or within the margin.\n",
    "\n",
    "The key role of support vectors in SVM can be explained with an example. Let's consider a binary classification problem with two classes, represented by red and blue points in a 2D feature space:\n",
    "\n",
    "```\n",
    "    |    Red (Positive)   |\n",
    "    |                     |\n",
    "    |        B            |\n",
    "    |      B   B          |\n",
    "    |      B     B        |\n",
    "    |    R   R   R   R    |\n",
    "    |  R   R     R   R    |\n",
    "    |_____________________|\n",
    "             Blue (Negative)\n",
    "```\n",
    "\n",
    "In this example, the red points represent the positive class, and the blue points represent the negative class. The goal is to find a decision boundary that can separate the two classes.\n",
    "\n",
    "When an SVM is trained on this data, it identifies the support vectors that lie closest to the decision boundary or within the margin. In this case, the support vectors would be the points on or near the edges of the clusters:\n",
    "\n",
    "```\n",
    "    |    Red (Positive)   |\n",
    "    |                     |\n",
    "    |        B            |\n",
    "    |        B            |\n",
    "    |    R   R   R   R    |\n",
    "    |  R   R            R |\n",
    "    |_____________________|\n",
    "             Blue (Negative)\n",
    "```\n",
    "\n",
    "The support vectors are typically the critical data points that determine the location and orientation of the decision boundary. These points have a significant influence on the SVM's decision-making process.\n",
    "\n",
    "During prediction, the SVM uses the support vectors to determine the class label of new, unseen data points. The decision boundary is defined by these support vectors, and the distances between the support vectors and the decision boundary determine the confidence of the prediction.\n",
    "\n",
    "By focusing on the support vectors, SVMs are able to generalize well and handle complex decision boundaries efficiently. This approach allows SVMs to effectively classify new data points based on their proximity to the decision boundary, as determined by the support vectors."
   ]
  },
  {
   "cell_type": "markdown",
   "id": "39148170-04b7-4b04-968d-d7df6c9154cd",
   "metadata": {},
   "source": [
    "##### Q5. Illustrate with examples and graphs of Hyperplane, Marginal plane, Soft margin and Hard margin in SVM?"
   ]
  },
  {
   "cell_type": "markdown",
   "id": "8d27b258-1106-4d98-9fae-eb07f01e90ea",
   "metadata": {},
   "source": [
    "Ans--> Certainly! I'll illustrate the concepts of hyperplane, marginal plane, soft margin, and hard margin in SVM using examples and graphs.\n",
    "\n",
    "1. Hyperplane:\n",
    "The hyperplane is a decision boundary that separates data points of different classes in SVM. In a binary classification problem, the hyperplane is a line in a 2D feature space or a plane in a higher-dimensional feature space.\n",
    "\n",
    "Example 1:\n",
    "Consider a simple 2D dataset with two classes, represented by red and blue points:\n",
    "\n",
    "```\n",
    "    |    Red (Positive)   |\n",
    "    |                     |\n",
    "    |        B            |\n",
    "    |      B   B          |\n",
    "    |      B     B        |\n",
    "    |    R   R   R   R    |\n",
    "    |  R   R     R   R    |\n",
    "    |_____________________|\n",
    "             Blue (Negative)\n",
    "```\n",
    "\n",
    "In this case, a linear SVM might find a hyperplane (a line in this 2D space) that separates the red points from the blue points:\n",
    "\n",
    "```\n",
    "    |    Red (Positive)   |\n",
    "    |         |           |\n",
    "    |        B|            |\n",
    "    |      B   |B          |\n",
    "    |      B    |B        |\n",
    "    |    R   R   |   R    |\n",
    "    |  R   R     | R    |\n",
    "    |_____________________|\n",
    "             Blue (Negative)\n",
    "```\n",
    "\n",
    "The line represents the hyperplane that separates the two classes. Points on one side of the line are classified as positive (red), while points on the other side are classified as negative (blue).\n",
    "\n",
    "2. Marginal Plane:\n",
    "The marginal plane refers to the region parallel to the hyperplane that lies within the margin, which is defined as the distance between the hyperplane and the closest data points from each class.\n",
    "\n",
    "Example 2:\n",
    "Continuing with the previous example, let's add the margin and the marginal plane:\n",
    "\n",
    "```\n",
    "    |    Red (Positive)   |\n",
    "    |   ----|------------ |\n",
    "    |        B            |\n",
    "    |      B   B          |\n",
    "    |      B     B        |\n",
    "    |    R   R   R   R    |\n",
    "    |  R   R     R   R    |\n",
    "    |_____________________|\n",
    "             Blue (Negative)\n",
    "```\n",
    "\n",
    "In this example, the margin is represented by the space between the two dashed lines. The marginal plane lies within the margin, parallel to the hyperplane. The support vectors, which are the data points closest to the margin, determine the position and orientation of the marginal plane.\n",
    "\n",
    "3. Soft Margin:\n",
    "Soft margin SVM allows for some misclassifications by allowing data points to fall within the margin or even on the wrong side of the hyperplane. This is useful when dealing with data that is not linearly separable or contains outliers.\n",
    "\n",
    "Example 3:\n",
    "Consider a dataset with overlapping classes:\n",
    "\n",
    "```\n",
    "    |    Red (Positive)   |\n",
    "    |          B          |\n",
    "    |      B   B          |\n",
    "    |     B   B           |\n",
    "    |    R   R   R   R    |\n",
    "    |     R   R  R   R    |\n",
    "    |          B          |\n",
    "    |_____________________|\n",
    "             Blue (Negative)\n",
    "```\n",
    "\n",
    "In this case, a hard margin SVM would not be able to find a linear hyperplane that perfectly separates the two classes. A soft margin SVM allows for a few misclassifications, introducing a margin of error to accommodate the overlapping points.\n",
    "\n",
    "    |    Red (Positive)   |\n",
    "    |          B          |\n",
    "    |         B B         |\n",
    "    |       B   B         |\n",
    "    |    R   R   R   R    |\n",
    "    |     R  R  R   R    |\n",
    "    |          B          |\n",
    "    |________________\n"
   ]
  },
  {
   "cell_type": "markdown",
   "id": "f3cd5656-f046-4601-a5a6-79064b11e848",
   "metadata": {},
   "source": [
    "#### Q6. SVM Implementation through Iris dataset."
   ]
  },
  {
   "cell_type": "markdown",
   "id": "a7777aa9-aac7-4324-860b-327108f20e04",
   "metadata": {},
   "source": [
    "##### ~ Load the iris dataset from the scikit-learn library and split it into a training set and a testing setl"
   ]
  },
  {
   "cell_type": "code",
   "execution_count": 55,
   "id": "8df04b13-22a4-45c5-9ba3-e88622062b14",
   "metadata": {},
   "outputs": [],
   "source": [
    "from sklearn.datasets import load_iris\n",
    "from sklearn.model_selection import train_test_split"
   ]
  },
  {
   "cell_type": "code",
   "execution_count": 56,
   "id": "7ca7d032-525c-4aad-91d0-0990ad62f759",
   "metadata": {},
   "outputs": [],
   "source": [
    "df=load_iris()"
   ]
  },
  {
   "cell_type": "code",
   "execution_count": 57,
   "id": "45143e2a-c3e9-44d9-8540-3d6f943993fc",
   "metadata": {},
   "outputs": [
    {
     "data": {
      "text/plain": [
       "{'data': array([[5.1, 3.5, 1.4, 0.2],\n",
       "        [4.9, 3. , 1.4, 0.2],\n",
       "        [4.7, 3.2, 1.3, 0.2],\n",
       "        [4.6, 3.1, 1.5, 0.2],\n",
       "        [5. , 3.6, 1.4, 0.2],\n",
       "        [5.4, 3.9, 1.7, 0.4],\n",
       "        [4.6, 3.4, 1.4, 0.3],\n",
       "        [5. , 3.4, 1.5, 0.2],\n",
       "        [4.4, 2.9, 1.4, 0.2],\n",
       "        [4.9, 3.1, 1.5, 0.1],\n",
       "        [5.4, 3.7, 1.5, 0.2],\n",
       "        [4.8, 3.4, 1.6, 0.2],\n",
       "        [4.8, 3. , 1.4, 0.1],\n",
       "        [4.3, 3. , 1.1, 0.1],\n",
       "        [5.8, 4. , 1.2, 0.2],\n",
       "        [5.7, 4.4, 1.5, 0.4],\n",
       "        [5.4, 3.9, 1.3, 0.4],\n",
       "        [5.1, 3.5, 1.4, 0.3],\n",
       "        [5.7, 3.8, 1.7, 0.3],\n",
       "        [5.1, 3.8, 1.5, 0.3],\n",
       "        [5.4, 3.4, 1.7, 0.2],\n",
       "        [5.1, 3.7, 1.5, 0.4],\n",
       "        [4.6, 3.6, 1. , 0.2],\n",
       "        [5.1, 3.3, 1.7, 0.5],\n",
       "        [4.8, 3.4, 1.9, 0.2],\n",
       "        [5. , 3. , 1.6, 0.2],\n",
       "        [5. , 3.4, 1.6, 0.4],\n",
       "        [5.2, 3.5, 1.5, 0.2],\n",
       "        [5.2, 3.4, 1.4, 0.2],\n",
       "        [4.7, 3.2, 1.6, 0.2],\n",
       "        [4.8, 3.1, 1.6, 0.2],\n",
       "        [5.4, 3.4, 1.5, 0.4],\n",
       "        [5.2, 4.1, 1.5, 0.1],\n",
       "        [5.5, 4.2, 1.4, 0.2],\n",
       "        [4.9, 3.1, 1.5, 0.2],\n",
       "        [5. , 3.2, 1.2, 0.2],\n",
       "        [5.5, 3.5, 1.3, 0.2],\n",
       "        [4.9, 3.6, 1.4, 0.1],\n",
       "        [4.4, 3. , 1.3, 0.2],\n",
       "        [5.1, 3.4, 1.5, 0.2],\n",
       "        [5. , 3.5, 1.3, 0.3],\n",
       "        [4.5, 2.3, 1.3, 0.3],\n",
       "        [4.4, 3.2, 1.3, 0.2],\n",
       "        [5. , 3.5, 1.6, 0.6],\n",
       "        [5.1, 3.8, 1.9, 0.4],\n",
       "        [4.8, 3. , 1.4, 0.3],\n",
       "        [5.1, 3.8, 1.6, 0.2],\n",
       "        [4.6, 3.2, 1.4, 0.2],\n",
       "        [5.3, 3.7, 1.5, 0.2],\n",
       "        [5. , 3.3, 1.4, 0.2],\n",
       "        [7. , 3.2, 4.7, 1.4],\n",
       "        [6.4, 3.2, 4.5, 1.5],\n",
       "        [6.9, 3.1, 4.9, 1.5],\n",
       "        [5.5, 2.3, 4. , 1.3],\n",
       "        [6.5, 2.8, 4.6, 1.5],\n",
       "        [5.7, 2.8, 4.5, 1.3],\n",
       "        [6.3, 3.3, 4.7, 1.6],\n",
       "        [4.9, 2.4, 3.3, 1. ],\n",
       "        [6.6, 2.9, 4.6, 1.3],\n",
       "        [5.2, 2.7, 3.9, 1.4],\n",
       "        [5. , 2. , 3.5, 1. ],\n",
       "        [5.9, 3. , 4.2, 1.5],\n",
       "        [6. , 2.2, 4. , 1. ],\n",
       "        [6.1, 2.9, 4.7, 1.4],\n",
       "        [5.6, 2.9, 3.6, 1.3],\n",
       "        [6.7, 3.1, 4.4, 1.4],\n",
       "        [5.6, 3. , 4.5, 1.5],\n",
       "        [5.8, 2.7, 4.1, 1. ],\n",
       "        [6.2, 2.2, 4.5, 1.5],\n",
       "        [5.6, 2.5, 3.9, 1.1],\n",
       "        [5.9, 3.2, 4.8, 1.8],\n",
       "        [6.1, 2.8, 4. , 1.3],\n",
       "        [6.3, 2.5, 4.9, 1.5],\n",
       "        [6.1, 2.8, 4.7, 1.2],\n",
       "        [6.4, 2.9, 4.3, 1.3],\n",
       "        [6.6, 3. , 4.4, 1.4],\n",
       "        [6.8, 2.8, 4.8, 1.4],\n",
       "        [6.7, 3. , 5. , 1.7],\n",
       "        [6. , 2.9, 4.5, 1.5],\n",
       "        [5.7, 2.6, 3.5, 1. ],\n",
       "        [5.5, 2.4, 3.8, 1.1],\n",
       "        [5.5, 2.4, 3.7, 1. ],\n",
       "        [5.8, 2.7, 3.9, 1.2],\n",
       "        [6. , 2.7, 5.1, 1.6],\n",
       "        [5.4, 3. , 4.5, 1.5],\n",
       "        [6. , 3.4, 4.5, 1.6],\n",
       "        [6.7, 3.1, 4.7, 1.5],\n",
       "        [6.3, 2.3, 4.4, 1.3],\n",
       "        [5.6, 3. , 4.1, 1.3],\n",
       "        [5.5, 2.5, 4. , 1.3],\n",
       "        [5.5, 2.6, 4.4, 1.2],\n",
       "        [6.1, 3. , 4.6, 1.4],\n",
       "        [5.8, 2.6, 4. , 1.2],\n",
       "        [5. , 2.3, 3.3, 1. ],\n",
       "        [5.6, 2.7, 4.2, 1.3],\n",
       "        [5.7, 3. , 4.2, 1.2],\n",
       "        [5.7, 2.9, 4.2, 1.3],\n",
       "        [6.2, 2.9, 4.3, 1.3],\n",
       "        [5.1, 2.5, 3. , 1.1],\n",
       "        [5.7, 2.8, 4.1, 1.3],\n",
       "        [6.3, 3.3, 6. , 2.5],\n",
       "        [5.8, 2.7, 5.1, 1.9],\n",
       "        [7.1, 3. , 5.9, 2.1],\n",
       "        [6.3, 2.9, 5.6, 1.8],\n",
       "        [6.5, 3. , 5.8, 2.2],\n",
       "        [7.6, 3. , 6.6, 2.1],\n",
       "        [4.9, 2.5, 4.5, 1.7],\n",
       "        [7.3, 2.9, 6.3, 1.8],\n",
       "        [6.7, 2.5, 5.8, 1.8],\n",
       "        [7.2, 3.6, 6.1, 2.5],\n",
       "        [6.5, 3.2, 5.1, 2. ],\n",
       "        [6.4, 2.7, 5.3, 1.9],\n",
       "        [6.8, 3. , 5.5, 2.1],\n",
       "        [5.7, 2.5, 5. , 2. ],\n",
       "        [5.8, 2.8, 5.1, 2.4],\n",
       "        [6.4, 3.2, 5.3, 2.3],\n",
       "        [6.5, 3. , 5.5, 1.8],\n",
       "        [7.7, 3.8, 6.7, 2.2],\n",
       "        [7.7, 2.6, 6.9, 2.3],\n",
       "        [6. , 2.2, 5. , 1.5],\n",
       "        [6.9, 3.2, 5.7, 2.3],\n",
       "        [5.6, 2.8, 4.9, 2. ],\n",
       "        [7.7, 2.8, 6.7, 2. ],\n",
       "        [6.3, 2.7, 4.9, 1.8],\n",
       "        [6.7, 3.3, 5.7, 2.1],\n",
       "        [7.2, 3.2, 6. , 1.8],\n",
       "        [6.2, 2.8, 4.8, 1.8],\n",
       "        [6.1, 3. , 4.9, 1.8],\n",
       "        [6.4, 2.8, 5.6, 2.1],\n",
       "        [7.2, 3. , 5.8, 1.6],\n",
       "        [7.4, 2.8, 6.1, 1.9],\n",
       "        [7.9, 3.8, 6.4, 2. ],\n",
       "        [6.4, 2.8, 5.6, 2.2],\n",
       "        [6.3, 2.8, 5.1, 1.5],\n",
       "        [6.1, 2.6, 5.6, 1.4],\n",
       "        [7.7, 3. , 6.1, 2.3],\n",
       "        [6.3, 3.4, 5.6, 2.4],\n",
       "        [6.4, 3.1, 5.5, 1.8],\n",
       "        [6. , 3. , 4.8, 1.8],\n",
       "        [6.9, 3.1, 5.4, 2.1],\n",
       "        [6.7, 3.1, 5.6, 2.4],\n",
       "        [6.9, 3.1, 5.1, 2.3],\n",
       "        [5.8, 2.7, 5.1, 1.9],\n",
       "        [6.8, 3.2, 5.9, 2.3],\n",
       "        [6.7, 3.3, 5.7, 2.5],\n",
       "        [6.7, 3. , 5.2, 2.3],\n",
       "        [6.3, 2.5, 5. , 1.9],\n",
       "        [6.5, 3. , 5.2, 2. ],\n",
       "        [6.2, 3.4, 5.4, 2.3],\n",
       "        [5.9, 3. , 5.1, 1.8]]),\n",
       " 'target': array([0, 0, 0, 0, 0, 0, 0, 0, 0, 0, 0, 0, 0, 0, 0, 0, 0, 0, 0, 0, 0, 0,\n",
       "        0, 0, 0, 0, 0, 0, 0, 0, 0, 0, 0, 0, 0, 0, 0, 0, 0, 0, 0, 0, 0, 0,\n",
       "        0, 0, 0, 0, 0, 0, 1, 1, 1, 1, 1, 1, 1, 1, 1, 1, 1, 1, 1, 1, 1, 1,\n",
       "        1, 1, 1, 1, 1, 1, 1, 1, 1, 1, 1, 1, 1, 1, 1, 1, 1, 1, 1, 1, 1, 1,\n",
       "        1, 1, 1, 1, 1, 1, 1, 1, 1, 1, 1, 1, 2, 2, 2, 2, 2, 2, 2, 2, 2, 2,\n",
       "        2, 2, 2, 2, 2, 2, 2, 2, 2, 2, 2, 2, 2, 2, 2, 2, 2, 2, 2, 2, 2, 2,\n",
       "        2, 2, 2, 2, 2, 2, 2, 2, 2, 2, 2, 2, 2, 2, 2, 2, 2, 2]),\n",
       " 'frame': None,\n",
       " 'target_names': array(['setosa', 'versicolor', 'virginica'], dtype='<U10'),\n",
       " 'DESCR': '.. _iris_dataset:\\n\\nIris plants dataset\\n--------------------\\n\\n**Data Set Characteristics:**\\n\\n    :Number of Instances: 150 (50 in each of three classes)\\n    :Number of Attributes: 4 numeric, predictive attributes and the class\\n    :Attribute Information:\\n        - sepal length in cm\\n        - sepal width in cm\\n        - petal length in cm\\n        - petal width in cm\\n        - class:\\n                - Iris-Setosa\\n                - Iris-Versicolour\\n                - Iris-Virginica\\n                \\n    :Summary Statistics:\\n\\n    ============== ==== ==== ======= ===== ====================\\n                    Min  Max   Mean    SD   Class Correlation\\n    ============== ==== ==== ======= ===== ====================\\n    sepal length:   4.3  7.9   5.84   0.83    0.7826\\n    sepal width:    2.0  4.4   3.05   0.43   -0.4194\\n    petal length:   1.0  6.9   3.76   1.76    0.9490  (high!)\\n    petal width:    0.1  2.5   1.20   0.76    0.9565  (high!)\\n    ============== ==== ==== ======= ===== ====================\\n\\n    :Missing Attribute Values: None\\n    :Class Distribution: 33.3% for each of 3 classes.\\n    :Creator: R.A. Fisher\\n    :Donor: Michael Marshall (MARSHALL%PLU@io.arc.nasa.gov)\\n    :Date: July, 1988\\n\\nThe famous Iris database, first used by Sir R.A. Fisher. The dataset is taken\\nfrom Fisher\\'s paper. Note that it\\'s the same as in R, but not as in the UCI\\nMachine Learning Repository, which has two wrong data points.\\n\\nThis is perhaps the best known database to be found in the\\npattern recognition literature.  Fisher\\'s paper is a classic in the field and\\nis referenced frequently to this day.  (See Duda & Hart, for example.)  The\\ndata set contains 3 classes of 50 instances each, where each class refers to a\\ntype of iris plant.  One class is linearly separable from the other 2; the\\nlatter are NOT linearly separable from each other.\\n\\n.. topic:: References\\n\\n   - Fisher, R.A. \"The use of multiple measurements in taxonomic problems\"\\n     Annual Eugenics, 7, Part II, 179-188 (1936); also in \"Contributions to\\n     Mathematical Statistics\" (John Wiley, NY, 1950).\\n   - Duda, R.O., & Hart, P.E. (1973) Pattern Classification and Scene Analysis.\\n     (Q327.D83) John Wiley & Sons.  ISBN 0-471-22361-1.  See page 218.\\n   - Dasarathy, B.V. (1980) \"Nosing Around the Neighborhood: A New System\\n     Structure and Classification Rule for Recognition in Partially Exposed\\n     Environments\".  IEEE Transactions on Pattern Analysis and Machine\\n     Intelligence, Vol. PAMI-2, No. 1, 67-71.\\n   - Gates, G.W. (1972) \"The Reduced Nearest Neighbor Rule\".  IEEE Transactions\\n     on Information Theory, May 1972, 431-433.\\n   - See also: 1988 MLC Proceedings, 54-64.  Cheeseman et al\"s AUTOCLASS II\\n     conceptual clustering system finds 3 classes in the data.\\n   - Many, many more ...',\n",
       " 'feature_names': ['sepal length (cm)',\n",
       "  'sepal width (cm)',\n",
       "  'petal length (cm)',\n",
       "  'petal width (cm)'],\n",
       " 'filename': 'iris.csv',\n",
       " 'data_module': 'sklearn.datasets.data'}"
      ]
     },
     "execution_count": 57,
     "metadata": {},
     "output_type": "execute_result"
    }
   ],
   "source": [
    "df"
   ]
  },
  {
   "cell_type": "code",
   "execution_count": 58,
   "id": "0cb5eafb-a5d4-4f39-993e-52edfe053312",
   "metadata": {},
   "outputs": [],
   "source": [
    "x=df.data\n",
    "y=df.target"
   ]
  },
  {
   "cell_type": "code",
   "execution_count": 59,
   "id": "1057188c-7e78-471b-807c-11c49b03a67e",
   "metadata": {},
   "outputs": [],
   "source": [
    "x_train,x_test,y_train,y_test=train_test_split(x,y,test_size=0.2,random_state=42)"
   ]
  },
  {
   "cell_type": "code",
   "execution_count": 60,
   "id": "91035a2f-a41b-4927-a7f5-c8d2f6385626",
   "metadata": {},
   "outputs": [
    {
     "data": {
      "text/plain": [
       "((120, 4), (120,))"
      ]
     },
     "execution_count": 60,
     "metadata": {},
     "output_type": "execute_result"
    }
   ],
   "source": [
    "x_train.shape,y_train.shape"
   ]
  },
  {
   "cell_type": "code",
   "execution_count": 61,
   "id": "0839aba5-b310-45c7-96d6-71cd98305cd9",
   "metadata": {},
   "outputs": [
    {
     "data": {
      "text/plain": [
       "((30, 4), (30,))"
      ]
     },
     "execution_count": 61,
     "metadata": {},
     "output_type": "execute_result"
    }
   ],
   "source": [
    "x_test.shape,y_test.shape"
   ]
  },
  {
   "cell_type": "markdown",
   "id": "31818323-be5e-4c8f-a1c2-810b3ee53d7c",
   "metadata": {},
   "source": [
    "##### Train a linear SVM classifier on the training set and predict the labels for the testing setl"
   ]
  },
  {
   "cell_type": "code",
   "execution_count": 62,
   "id": "2e0f71b2-05d6-472e-8f0e-10a659b44660",
   "metadata": {},
   "outputs": [],
   "source": [
    "from sklearn.svm import SVC\n",
    "from sklearn.metrics import accuracy_score"
   ]
  },
  {
   "cell_type": "code",
   "execution_count": 63,
   "id": "0cb276ca-4de8-4834-ad4a-eea0cfa12a74",
   "metadata": {},
   "outputs": [],
   "source": [
    "svm=SVC(kernel='linear')"
   ]
  },
  {
   "cell_type": "code",
   "execution_count": 64,
   "id": "d8d60e9a-ebdc-43fd-a413-ce4d077bd2fe",
   "metadata": {},
   "outputs": [
    {
     "data": {
      "text/html": [
       "<style>#sk-container-id-2 {color: black;background-color: white;}#sk-container-id-2 pre{padding: 0;}#sk-container-id-2 div.sk-toggleable {background-color: white;}#sk-container-id-2 label.sk-toggleable__label {cursor: pointer;display: block;width: 100%;margin-bottom: 0;padding: 0.3em;box-sizing: border-box;text-align: center;}#sk-container-id-2 label.sk-toggleable__label-arrow:before {content: \"▸\";float: left;margin-right: 0.25em;color: #696969;}#sk-container-id-2 label.sk-toggleable__label-arrow:hover:before {color: black;}#sk-container-id-2 div.sk-estimator:hover label.sk-toggleable__label-arrow:before {color: black;}#sk-container-id-2 div.sk-toggleable__content {max-height: 0;max-width: 0;overflow: hidden;text-align: left;background-color: #f0f8ff;}#sk-container-id-2 div.sk-toggleable__content pre {margin: 0.2em;color: black;border-radius: 0.25em;background-color: #f0f8ff;}#sk-container-id-2 input.sk-toggleable__control:checked~div.sk-toggleable__content {max-height: 200px;max-width: 100%;overflow: auto;}#sk-container-id-2 input.sk-toggleable__control:checked~label.sk-toggleable__label-arrow:before {content: \"▾\";}#sk-container-id-2 div.sk-estimator input.sk-toggleable__control:checked~label.sk-toggleable__label {background-color: #d4ebff;}#sk-container-id-2 div.sk-label input.sk-toggleable__control:checked~label.sk-toggleable__label {background-color: #d4ebff;}#sk-container-id-2 input.sk-hidden--visually {border: 0;clip: rect(1px 1px 1px 1px);clip: rect(1px, 1px, 1px, 1px);height: 1px;margin: -1px;overflow: hidden;padding: 0;position: absolute;width: 1px;}#sk-container-id-2 div.sk-estimator {font-family: monospace;background-color: #f0f8ff;border: 1px dotted black;border-radius: 0.25em;box-sizing: border-box;margin-bottom: 0.5em;}#sk-container-id-2 div.sk-estimator:hover {background-color: #d4ebff;}#sk-container-id-2 div.sk-parallel-item::after {content: \"\";width: 100%;border-bottom: 1px solid gray;flex-grow: 1;}#sk-container-id-2 div.sk-label:hover label.sk-toggleable__label {background-color: #d4ebff;}#sk-container-id-2 div.sk-serial::before {content: \"\";position: absolute;border-left: 1px solid gray;box-sizing: border-box;top: 0;bottom: 0;left: 50%;z-index: 0;}#sk-container-id-2 div.sk-serial {display: flex;flex-direction: column;align-items: center;background-color: white;padding-right: 0.2em;padding-left: 0.2em;position: relative;}#sk-container-id-2 div.sk-item {position: relative;z-index: 1;}#sk-container-id-2 div.sk-parallel {display: flex;align-items: stretch;justify-content: center;background-color: white;position: relative;}#sk-container-id-2 div.sk-item::before, #sk-container-id-2 div.sk-parallel-item::before {content: \"\";position: absolute;border-left: 1px solid gray;box-sizing: border-box;top: 0;bottom: 0;left: 50%;z-index: -1;}#sk-container-id-2 div.sk-parallel-item {display: flex;flex-direction: column;z-index: 1;position: relative;background-color: white;}#sk-container-id-2 div.sk-parallel-item:first-child::after {align-self: flex-end;width: 50%;}#sk-container-id-2 div.sk-parallel-item:last-child::after {align-self: flex-start;width: 50%;}#sk-container-id-2 div.sk-parallel-item:only-child::after {width: 0;}#sk-container-id-2 div.sk-dashed-wrapped {border: 1px dashed gray;margin: 0 0.4em 0.5em 0.4em;box-sizing: border-box;padding-bottom: 0.4em;background-color: white;}#sk-container-id-2 div.sk-label label {font-family: monospace;font-weight: bold;display: inline-block;line-height: 1.2em;}#sk-container-id-2 div.sk-label-container {text-align: center;}#sk-container-id-2 div.sk-container {/* jupyter's `normalize.less` sets `[hidden] { display: none; }` but bootstrap.min.css set `[hidden] { display: none !important; }` so we also need the `!important` here to be able to override the default hidden behavior on the sphinx rendered scikit-learn.org. See: https://github.com/scikit-learn/scikit-learn/issues/21755 */display: inline-block !important;position: relative;}#sk-container-id-2 div.sk-text-repr-fallback {display: none;}</style><div id=\"sk-container-id-2\" class=\"sk-top-container\"><div class=\"sk-text-repr-fallback\"><pre>SVC(kernel=&#x27;linear&#x27;)</pre><b>In a Jupyter environment, please rerun this cell to show the HTML representation or trust the notebook. <br />On GitHub, the HTML representation is unable to render, please try loading this page with nbviewer.org.</b></div><div class=\"sk-container\" hidden><div class=\"sk-item\"><div class=\"sk-estimator sk-toggleable\"><input class=\"sk-toggleable__control sk-hidden--visually\" id=\"sk-estimator-id-2\" type=\"checkbox\" checked><label for=\"sk-estimator-id-2\" class=\"sk-toggleable__label sk-toggleable__label-arrow\">SVC</label><div class=\"sk-toggleable__content\"><pre>SVC(kernel=&#x27;linear&#x27;)</pre></div></div></div></div></div>"
      ],
      "text/plain": [
       "SVC(kernel='linear')"
      ]
     },
     "execution_count": 64,
     "metadata": {},
     "output_type": "execute_result"
    }
   ],
   "source": [
    "svm.fit(x_test,y_test)"
   ]
  },
  {
   "cell_type": "code",
   "execution_count": 65,
   "id": "d5f593fa-63d3-4a7f-af54-4dcdcd21a9ec",
   "metadata": {},
   "outputs": [],
   "source": [
    "y_pred=svm.predict(x_test)"
   ]
  },
  {
   "cell_type": "code",
   "execution_count": 66,
   "id": "61ac692a-1991-4a9f-b3e8-9743b9826f80",
   "metadata": {},
   "outputs": [
    {
     "data": {
      "text/plain": [
       "array([1, 0, 2, 1, 1, 0, 1, 2, 1, 1, 2, 0, 0, 0, 0, 1, 2, 1, 1, 2, 0, 1,\n",
       "       0, 2, 2, 2, 2, 2, 0, 0])"
      ]
     },
     "execution_count": 66,
     "metadata": {},
     "output_type": "execute_result"
    }
   ],
   "source": [
    "y_pred"
   ]
  },
  {
   "cell_type": "code",
   "execution_count": 67,
   "id": "68f5263d-c9d7-4907-8cfe-e1a66161aa09",
   "metadata": {},
   "outputs": [
    {
     "data": {
      "text/plain": [
       "0.9666666666666667"
      ]
     },
     "execution_count": 67,
     "metadata": {},
     "output_type": "execute_result"
    }
   ],
   "source": [
    "accuracy_score(y_test,y_pred)"
   ]
  },
  {
   "cell_type": "markdown",
   "id": "48baf3d3-d418-469b-b673-bcc092e4ad0b",
   "metadata": {},
   "source": [
    "#####  Compute the accuracy of the model on the testing setl"
   ]
  },
  {
   "cell_type": "code",
   "execution_count": 68,
   "id": "d1d39d93-a812-44f5-9809-10476c4e382c",
   "metadata": {},
   "outputs": [
    {
     "name": "stdout",
     "output_type": "stream",
     "text": [
      "Accuracy: 0.9666666666666667\n"
     ]
    }
   ],
   "source": [
    "print(\"Accuracy:\",accuracy_score(y_test,y_pred))"
   ]
  },
  {
   "cell_type": "markdown",
   "id": "ae01773b-8ac6-4238-91c4-873c95f061be",
   "metadata": {},
   "source": [
    "##### Plot the decision boundaries of the trained model using two of the featuresl"
   ]
  },
  {
   "cell_type": "code",
   "execution_count": 69,
   "id": "db002191-17a2-4b7d-a8e1-0f02e7de2068",
   "metadata": {},
   "outputs": [],
   "source": [
    "import numpy as np\n",
    "import matplotlib as pyplot"
   ]
  },
  {
   "cell_type": "code",
   "execution_count": 70,
   "id": "c1f307d5-c1ea-49d7-bfe7-21fc9ba5699d",
   "metadata": {},
   "outputs": [],
   "source": [
    "feature1_index=0\n",
    "feature2_index=2\n",
    "\n",
    "x_train_selected=x_train[:,[feature1_index,feature2_index]]\n",
    "x1_min, x1_max = X_train_selected[:, 0].min() - 1, X_train_selected[:, 0].max() + 1\n",
    "x2_min, x2_max = X_train_selected[:, 1].min() - 1, X_train_selected[:, 1].max() + 1"
   ]
  },
  {
   "cell_type": "code",
   "execution_count": 71,
   "id": "b57be3e4-3452-4dce-b297-6be36fa7f6a6",
   "metadata": {},
   "outputs": [
    {
     "data": {
      "image/png": "[encoded data removed]",
      "text/plain": [
       "<Figure size 640x480 with 1 Axes>"
      ]
     },
     "metadata": {},
     "output_type": "display_data"
    }
   ],
   "source": [
    "xx, yy = np.meshgrid(np.arange(x1_min, x1_max, 0.02), np.arange(x2_min, x2_max, 0.02))\n",
    "Z = svm_classifier.predict(np.c_[xx.ravel(), yy.ravel()])\n",
    "Z = Z.reshape(xx.shape)\n",
    "plt.contourf(xx, yy, Z, alpha=0.8)\n",
    "plt.scatter(X_train_selected[:, 0], X_train_selected[:, 1], c=y_train, edgecolors='k', cmap=plt.cm.Paired)\n",
    "plt.xlabel('Feature 1')\n",
    "plt.ylabel('Feature 2')\n",
    "plt.title('Decision Boundaries')\n",
    "plt.show()"
   ]
  },
  {
   "cell_type": "markdown",
   "id": "c7b7ac90-eda5-465c-ba70-bf883de6b86d",
   "metadata": {},
   "source": [
    "##### Try different values of the regularisation parameter C and see how it affects the performance of the model."
   ]
  },
  {
   "cell_type": "code",
   "execution_count": 72,
   "id": "29cfb79e-b019-42a5-8464-2b77123749e4",
   "metadata": {},
   "outputs": [
    {
     "name": "stdout",
     "output_type": "stream",
     "text": [
      "C = 0.1 Accuracy: 0.9666666666666667\n",
      "C = 1 Accuracy: 1.0\n",
      "C = 10 Accuracy: 1.0\n",
      "C = 100 Accuracy: 0.9666666666666667\n"
     ]
    }
   ],
   "source": [
    "C_values = [0.1, 1, 10, 100]\n",
    "\n",
    "# Train SVM classifiers with different C values and evaluate their performance\n",
    "for C in C_values:\n",
    "    # Create an SVM classifier with a linear kernel and the current C value\n",
    "    svm_classifier = SVC(kernel='linear', C=C)\n",
    "\n",
    "    # Train the SVM classifier on the training set\n",
    "    svm_classifier.fit(X_train_selected, y_train)\n",
    "\n",
    "    # Predict the labels for the testing set\n",
    "    X_test_selected = x_test[:, [feature1_index, feature2_index]]\n",
    "    y_pred = svm_classifier.predict(X_test_selected)\n",
    "\n",
    "    # Calculate the accuracy of the classifier\n",
    "    accuracy = accuracy_score(y_test, y_pred)\n",
    "    print(\"C =\", C, \"Accuracy:\", accuracy)"
   ]
  },
  {
   "cell_type": "code",
   "execution_count": 52,
   "id": "14241045-1094-41e4-86ce-111ef7cf80c3",
   "metadata": {},
   "outputs": [
    {
     "data": {
      "image/png": "[encoded data removed]",
      "text/plain": [
       "<Figure size 640x480 with 1 Axes>"
      ]
     },
     "metadata": {},
     "output_type": "display_data"
    }
   ],
   "source": [
    "x1_min, x1_max = X_train_selected[:, 0].min() - 1, X_train_selected[:, 0].max() + 1\n",
    "x2_min, x2_max = X_train_selected[:, 1].min() - 1, X_train_selected[:, 1].max() + 1\n",
    "xx, yy = np.meshgrid(np.arange(x1_min, x1_max, 0.02), np.arange(x2_min, x2_max, 0.02))\n",
    "Z = svm_classifier.predict(np.c_[xx.ravel(), yy.ravel()])\n",
    "Z = Z.reshape(xx.shape)\n",
    "plt.contourf(xx, yy, Z, alpha=0.8)\n",
    "plt.scatter(X_train_selected[:, 0], X_train_selected[:, 1], c=y_train, edgecolors='k', cmap=plt.cm.Paired)\n",
    "plt.xlabel('Feature 1')\n",
    "plt.ylabel('Feature 2')\n",
    "plt.title('Decision Boundaries (C = ' + str(C) + ')')\n",
    "plt.show()"
   ]
  },
  {
   "cell_type": "code",
   "execution_count": null,
   "id": "c4c35ccf-fda7-4a18-a6c0-44b7aa2068e3",
   "metadata": {},
   "outputs": [],
   "source": []
  }
 ],
 "metadata": {
  "kernelspec": {
   "display_name": "Python 3 (ipykernel)",
   "language": "python",
   "name": "python3"
  },
  "language_info": {
   "codemirror_mode": {
    "name": "ipython",
    "version": 3
   },
   "file_extension": ".py",
   "mimetype": "text/x-python",
   "name": "python",
   "nbconvert_exporter": "python",
   "pygments_lexer": "ipython3",
   "version": "3.10.8"
  }
 },
 "nbformat": 4,
 "nbformat_minor": 5
}
